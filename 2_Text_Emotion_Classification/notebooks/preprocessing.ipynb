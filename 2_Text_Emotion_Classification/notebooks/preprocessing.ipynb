{
 "cells": [
  {
   "cell_type": "code",
   "execution_count": 1,
   "id": "8fb34fba",
   "metadata": {},
   "outputs": [],
   "source": [
    "import os\n",
    "import pandas as pd\n",
    "import numpy as np\n",
    "import matplotlib.pyplot as plt\n",
    "import seaborn as sns\n"
   ]
  },
  {
   "cell_type": "code",
   "execution_count": 2,
   "id": "319b3344",
   "metadata": {},
   "outputs": [],
   "source": [
    "os.chdir(os.getcwd().replace('notebooks', 'data'))\n",
    "\n",
    "df = pd.read_csv('data.csv')\n"
   ]
  },
  {
   "cell_type": "code",
   "execution_count": 3,
   "id": "87895c82",
   "metadata": {},
   "outputs": [
    {
     "data": {
      "text/html": [
       "<div>\n",
       "<style scoped>\n",
       "    .dataframe tbody tr th:only-of-type {\n",
       "        vertical-align: middle;\n",
       "    }\n",
       "\n",
       "    .dataframe tbody tr th {\n",
       "        vertical-align: top;\n",
       "    }\n",
       "\n",
       "    .dataframe thead th {\n",
       "        text-align: right;\n",
       "    }\n",
       "</style>\n",
       "<table border=\"1\" class=\"dataframe\">\n",
       "  <thead>\n",
       "    <tr style=\"text-align: right;\">\n",
       "      <th></th>\n",
       "      <th>Unnamed: 0</th>\n",
       "      <th>text</th>\n",
       "      <th>label</th>\n",
       "    </tr>\n",
       "  </thead>\n",
       "  <tbody>\n",
       "    <tr>\n",
       "      <th>400217</th>\n",
       "      <td>400217</td>\n",
       "      <td>i didn t feel safe leaving alyssa alone long e...</td>\n",
       "      <td>1</td>\n",
       "    </tr>\n",
       "    <tr>\n",
       "      <th>155899</th>\n",
       "      <td>155899</td>\n",
       "      <td>i like walking into the gallery and feeling as...</td>\n",
       "      <td>1</td>\n",
       "    </tr>\n",
       "    <tr>\n",
       "      <th>347464</th>\n",
       "      <td>347464</td>\n",
       "      <td>i started to feel restless and to sense the en...</td>\n",
       "      <td>4</td>\n",
       "    </tr>\n",
       "    <tr>\n",
       "      <th>378401</th>\n",
       "      <td>378401</td>\n",
       "      <td>i don t think most content producers and blogg...</td>\n",
       "      <td>1</td>\n",
       "    </tr>\n",
       "    <tr>\n",
       "      <th>364608</th>\n",
       "      <td>364608</td>\n",
       "      <td>im really not feeling morose</td>\n",
       "      <td>0</td>\n",
       "    </tr>\n",
       "    <tr>\n",
       "      <th>2454</th>\n",
       "      <td>2454</td>\n",
       "      <td>i go to sleep he snuggles up next to me and i ...</td>\n",
       "      <td>4</td>\n",
       "    </tr>\n",
       "    <tr>\n",
       "      <th>222281</th>\n",
       "      <td>222281</td>\n",
       "      <td>i feel deeply honoured</td>\n",
       "      <td>1</td>\n",
       "    </tr>\n",
       "    <tr>\n",
       "      <th>2638</th>\n",
       "      <td>2638</td>\n",
       "      <td>i feel like such a liar when i talk to him my ...</td>\n",
       "      <td>1</td>\n",
       "    </tr>\n",
       "    <tr>\n",
       "      <th>174143</th>\n",
       "      <td>174143</td>\n",
       "      <td>im in the middle of my conversion to understan...</td>\n",
       "      <td>4</td>\n",
       "    </tr>\n",
       "    <tr>\n",
       "      <th>325030</th>\n",
       "      <td>325030</td>\n",
       "      <td>i was feeling pretty thrashed</td>\n",
       "      <td>1</td>\n",
       "    </tr>\n",
       "  </tbody>\n",
       "</table>\n",
       "</div>"
      ],
      "text/plain": [
       "        Unnamed: 0                                               text  label\n",
       "400217      400217  i didn t feel safe leaving alyssa alone long e...      1\n",
       "155899      155899  i like walking into the gallery and feeling as...      1\n",
       "347464      347464  i started to feel restless and to sense the en...      4\n",
       "378401      378401  i don t think most content producers and blogg...      1\n",
       "364608      364608                       im really not feeling morose      0\n",
       "2454          2454  i go to sleep he snuggles up next to me and i ...      4\n",
       "222281      222281                             i feel deeply honoured      1\n",
       "2638          2638  i feel like such a liar when i talk to him my ...      1\n",
       "174143      174143  im in the middle of my conversion to understan...      4\n",
       "325030      325030                      i was feeling pretty thrashed      1"
      ]
     },
     "execution_count": 3,
     "metadata": {},
     "output_type": "execute_result"
    }
   ],
   "source": [
    "df.sample(10)\n"
   ]
  },
  {
   "cell_type": "code",
   "execution_count": 4,
   "id": "201f7e94",
   "metadata": {},
   "outputs": [],
   "source": [
    "df.columns = ['unnamed', 'text', 'emotion']\n"
   ]
  },
  {
   "cell_type": "code",
   "execution_count": 5,
   "id": "41c82dea",
   "metadata": {},
   "outputs": [],
   "source": [
    "df.drop(columns=['unnamed'], inplace=True) \n"
   ]
  },
  {
   "cell_type": "code",
   "execution_count": 6,
   "id": "a090de15",
   "metadata": {},
   "outputs": [
    {
     "data": {
      "text/html": [
       "<div>\n",
       "<style scoped>\n",
       "    .dataframe tbody tr th:only-of-type {\n",
       "        vertical-align: middle;\n",
       "    }\n",
       "\n",
       "    .dataframe tbody tr th {\n",
       "        vertical-align: top;\n",
       "    }\n",
       "\n",
       "    .dataframe thead th {\n",
       "        text-align: right;\n",
       "    }\n",
       "</style>\n",
       "<table border=\"1\" class=\"dataframe\">\n",
       "  <thead>\n",
       "    <tr style=\"text-align: right;\">\n",
       "      <th></th>\n",
       "      <th>text</th>\n",
       "      <th>emotion</th>\n",
       "    </tr>\n",
       "  </thead>\n",
       "  <tbody>\n",
       "    <tr>\n",
       "      <th>211780</th>\n",
       "      <td>i can understand that to me your heart was hur...</td>\n",
       "      <td>0</td>\n",
       "    </tr>\n",
       "    <tr>\n",
       "      <th>77650</th>\n",
       "      <td>i was sitting at my computer the other day day...</td>\n",
       "      <td>4</td>\n",
       "    </tr>\n",
       "    <tr>\n",
       "      <th>181046</th>\n",
       "      <td>i looked at the weathered wooden needles i fel...</td>\n",
       "      <td>1</td>\n",
       "    </tr>\n",
       "    <tr>\n",
       "      <th>285139</th>\n",
       "      <td>i get too wrapped up in my thoughts i have onl...</td>\n",
       "      <td>1</td>\n",
       "    </tr>\n",
       "    <tr>\n",
       "      <th>135138</th>\n",
       "      <td>i was like please just watch this minute pingu...</td>\n",
       "      <td>2</td>\n",
       "    </tr>\n",
       "    <tr>\n",
       "      <th>216542</th>\n",
       "      <td>i can feel you lifting me up and supporting me...</td>\n",
       "      <td>1</td>\n",
       "    </tr>\n",
       "    <tr>\n",
       "      <th>405283</th>\n",
       "      <td>i saw a man too cool to feel offended with a k...</td>\n",
       "      <td>3</td>\n",
       "    </tr>\n",
       "    <tr>\n",
       "      <th>33437</th>\n",
       "      <td>i got the feeling that he liked me</td>\n",
       "      <td>2</td>\n",
       "    </tr>\n",
       "    <tr>\n",
       "      <th>217269</th>\n",
       "      <td>i feel very out of place as well</td>\n",
       "      <td>1</td>\n",
       "    </tr>\n",
       "    <tr>\n",
       "      <th>401004</th>\n",
       "      <td>i feel as if i have been neglectful of posting...</td>\n",
       "      <td>0</td>\n",
       "    </tr>\n",
       "  </tbody>\n",
       "</table>\n",
       "</div>"
      ],
      "text/plain": [
       "                                                     text  emotion\n",
       "211780  i can understand that to me your heart was hur...        0\n",
       "77650   i was sitting at my computer the other day day...        4\n",
       "181046  i looked at the weathered wooden needles i fel...        1\n",
       "285139  i get too wrapped up in my thoughts i have onl...        1\n",
       "135138  i was like please just watch this minute pingu...        2\n",
       "216542  i can feel you lifting me up and supporting me...        1\n",
       "405283  i saw a man too cool to feel offended with a k...        3\n",
       "33437                  i got the feeling that he liked me        2\n",
       "217269                   i feel very out of place as well        1\n",
       "401004  i feel as if i have been neglectful of posting...        0"
      ]
     },
     "execution_count": 6,
     "metadata": {},
     "output_type": "execute_result"
    }
   ],
   "source": [
    "df.sample(10)\n"
   ]
  },
  {
   "cell_type": "code",
   "execution_count": 7,
   "id": "9653de9b",
   "metadata": {},
   "outputs": [],
   "source": [
    "df.drop_duplicates(inplace=True)\n"
   ]
  },
  {
   "cell_type": "code",
   "execution_count": 8,
   "id": "cddff006",
   "metadata": {},
   "outputs": [
    {
     "data": {
      "text/plain": [
       "(416123, 2)"
      ]
     },
     "execution_count": 8,
     "metadata": {},
     "output_type": "execute_result"
    }
   ],
   "source": [
    "df.shape\n"
   ]
  },
  {
   "cell_type": "code",
   "execution_count": 9,
   "id": "9bee3228",
   "metadata": {},
   "outputs": [],
   "source": [
    "df.to_csv('clean.csv', index=False)\n"
   ]
  },
  {
   "cell_type": "code",
   "execution_count": null,
   "id": "2578855b",
   "metadata": {},
   "outputs": [],
   "source": []
  }
 ],
 "metadata": {
  "kernelspec": {
   "display_name": "base",
   "language": "python",
   "name": "python3"
  },
  "language_info": {
   "codemirror_mode": {
    "name": "ipython",
    "version": 3
   },
   "file_extension": ".py",
   "mimetype": "text/x-python",
   "name": "python",
   "nbconvert_exporter": "python",
   "pygments_lexer": "ipython3",
   "version": "3.12.7"
  }
 },
 "nbformat": 4,
 "nbformat_minor": 5
}
