{
 "cells": [
  {
   "cell_type": "markdown",
   "id": "9278f492",
   "metadata": {},
   "source": [
    "Project: 1 Email Spam Detection\n",
    "\n",
    "Problem Statement:\n",
    "Classify emails as spam or not using textual features."
   ]
  },
  {
   "cell_type": "code",
   "execution_count": 107,
   "id": "1df70f7a",
   "metadata": {},
   "outputs": [],
   "source": [
    "import os\n",
    "import pandas as pd\n",
    "import numpy as np\n",
    "import matplotlib.pyplot as plt\n",
    "import seaborn as sns\n"
   ]
  },
  {
   "cell_type": "code",
   "execution_count": 108,
   "id": "5268a5d3",
   "metadata": {},
   "outputs": [],
   "source": [
    "os.chdir(os.getcwd().replace('notebooks', 'data'))\n",
    "\n",
    "df = pd.read_csv('data.csv')\n"
   ]
  },
  {
   "cell_type": "code",
   "execution_count": 109,
   "id": "f286f841",
   "metadata": {},
   "outputs": [
    {
     "data": {
      "text/html": [
       "<div>\n",
       "<style scoped>\n",
       "    .dataframe tbody tr th:only-of-type {\n",
       "        vertical-align: middle;\n",
       "    }\n",
       "\n",
       "    .dataframe tbody tr th {\n",
       "        vertical-align: top;\n",
       "    }\n",
       "\n",
       "    .dataframe thead th {\n",
       "        text-align: right;\n",
       "    }\n",
       "</style>\n",
       "<table border=\"1\" class=\"dataframe\">\n",
       "  <thead>\n",
       "    <tr style=\"text-align: right;\">\n",
       "      <th></th>\n",
       "      <th>Unnamed: 0</th>\n",
       "      <th>Body</th>\n",
       "      <th>Label</th>\n",
       "    </tr>\n",
       "  </thead>\n",
       "  <tbody>\n",
       "    <tr>\n",
       "      <th>3716</th>\n",
       "      <td>3716</td>\n",
       "      <td>use Perl Daily Headline MailerPassing the Parr...</td>\n",
       "      <td>0</td>\n",
       "    </tr>\n",
       "    <tr>\n",
       "      <th>4798</th>\n",
       "      <td>4798</td>\n",
       "      <td>On Tue, Aug 13, 2002 at 12:22:14PM +0100, Nial...</td>\n",
       "      <td>0</td>\n",
       "    </tr>\n",
       "    <tr>\n",
       "      <th>2048</th>\n",
       "      <td>2048</td>\n",
       "      <td>&gt;&gt;From the BBC website - www.bbc.co.uk Tuesday...</td>\n",
       "      <td>0</td>\n",
       "    </tr>\n",
       "    <tr>\n",
       "      <th>908</th>\n",
       "      <td>908</td>\n",
       "      <td>empty</td>\n",
       "      <td>1</td>\n",
       "    </tr>\n",
       "    <tr>\n",
       "      <th>4681</th>\n",
       "      <td>4681</td>\n",
       "      <td>Thought this was funny.\\nIn the slashdot threa...</td>\n",
       "      <td>0</td>\n",
       "    </tr>\n",
       "    <tr>\n",
       "      <th>9</th>\n",
       "      <td>9</td>\n",
       "      <td>Dear ricardo1 ,\\nCOST EFFECTIVE Direct Email A...</td>\n",
       "      <td>1</td>\n",
       "    </tr>\n",
       "    <tr>\n",
       "      <th>191</th>\n",
       "      <td>191</td>\n",
       "      <td>empty</td>\n",
       "      <td>1</td>\n",
       "    </tr>\n",
       "    <tr>\n",
       "      <th>566</th>\n",
       "      <td>566</td>\n",
       "      <td>I am a TV producer for one of the three major ...</td>\n",
       "      <td>1</td>\n",
       "    </tr>\n",
       "    <tr>\n",
       "      <th>720</th>\n",
       "      <td>720</td>\n",
       "      <td>empty</td>\n",
       "      <td>1</td>\n",
       "    </tr>\n",
       "    <tr>\n",
       "      <th>587</th>\n",
       "      <td>587</td>\n",
       "      <td>\\nAre your tired of 9 to 5? \\nLet us show you ...</td>\n",
       "      <td>1</td>\n",
       "    </tr>\n",
       "  </tbody>\n",
       "</table>\n",
       "</div>"
      ],
      "text/plain": [
       "      Unnamed: 0                                               Body  Label\n",
       "3716        3716  use Perl Daily Headline MailerPassing the Parr...      0\n",
       "4798        4798  On Tue, Aug 13, 2002 at 12:22:14PM +0100, Nial...      0\n",
       "2048        2048  >>From the BBC website - www.bbc.co.uk Tuesday...      0\n",
       "908          908                                              empty      1\n",
       "4681        4681  Thought this was funny.\\nIn the slashdot threa...      0\n",
       "9              9  Dear ricardo1 ,\\nCOST EFFECTIVE Direct Email A...      1\n",
       "191          191                                              empty      1\n",
       "566          566  I am a TV producer for one of the three major ...      1\n",
       "720          720                                              empty      1\n",
       "587          587  \\nAre your tired of 9 to 5? \\nLet us show you ...      1"
      ]
     },
     "execution_count": 109,
     "metadata": {},
     "output_type": "execute_result"
    }
   ],
   "source": [
    "df.sample(10)\n"
   ]
  },
  {
   "cell_type": "code",
   "execution_count": 110,
   "id": "f5d66b2c",
   "metadata": {},
   "outputs": [],
   "source": [
    "df.columns = ['unnamed', 'text', 'is_spam']\n"
   ]
  },
  {
   "cell_type": "code",
   "execution_count": 111,
   "id": "59419af5",
   "metadata": {},
   "outputs": [
    {
     "data": {
      "text/html": [
       "<div>\n",
       "<style scoped>\n",
       "    .dataframe tbody tr th:only-of-type {\n",
       "        vertical-align: middle;\n",
       "    }\n",
       "\n",
       "    .dataframe tbody tr th {\n",
       "        vertical-align: top;\n",
       "    }\n",
       "\n",
       "    .dataframe thead th {\n",
       "        text-align: right;\n",
       "    }\n",
       "</style>\n",
       "<table border=\"1\" class=\"dataframe\">\n",
       "  <thead>\n",
       "    <tr style=\"text-align: right;\">\n",
       "      <th></th>\n",
       "      <th>unnamed</th>\n",
       "      <th>text</th>\n",
       "      <th>is_spam</th>\n",
       "    </tr>\n",
       "  </thead>\n",
       "  <tbody>\n",
       "    <tr>\n",
       "      <th>1481</th>\n",
       "      <td>1481</td>\n",
       "      <td>Government Grants E-Book 2002 editionkatfish48...</td>\n",
       "      <td>1</td>\n",
       "    </tr>\n",
       "    <tr>\n",
       "      <th>2239</th>\n",
       "      <td>2239</td>\n",
       "      <td>Justin Mason writes:\\n&gt; Has anyone figured out...</td>\n",
       "      <td>0</td>\n",
       "    </tr>\n",
       "    <tr>\n",
       "      <th>971</th>\n",
       "      <td>971</td>\n",
       "      <td>&gt;From the ethnobotanical herbalists who brough...</td>\n",
       "      <td>1</td>\n",
       "    </tr>\n",
       "    <tr>\n",
       "      <th>625</th>\n",
       "      <td>625</td>\n",
       "      <td>e Earn\\n        $1500 Or More Per Week!\\n     ...</td>\n",
       "      <td>1</td>\n",
       "    </tr>\n",
       "    <tr>\n",
       "      <th>4544</th>\n",
       "      <td>4544</td>\n",
       "      <td>Liam Bedford wrote:\\n&gt; that is the CVS version...</td>\n",
       "      <td>0</td>\n",
       "    </tr>\n",
       "    <tr>\n",
       "      <th>1419</th>\n",
       "      <td>1419</td>\n",
       "      <td>CashIC.com ï¿½nternetten para kazandiran, en o...</td>\n",
       "      <td>1</td>\n",
       "    </tr>\n",
       "    <tr>\n",
       "      <th>4717</th>\n",
       "      <td>4717</td>\n",
       "      <td>has anyone had a problem with Yast2 not being ...</td>\n",
       "      <td>0</td>\n",
       "    </tr>\n",
       "    <tr>\n",
       "      <th>993</th>\n",
       "      <td>993</td>\n",
       "      <td>Learn How To Make $8,000 within 7-14 days!Get ...</td>\n",
       "      <td>1</td>\n",
       "    </tr>\n",
       "    <tr>\n",
       "      <th>668</th>\n",
       "      <td>668</td>\n",
       "      <td>empty</td>\n",
       "      <td>1</td>\n",
       "    </tr>\n",
       "    <tr>\n",
       "      <th>3961</th>\n",
       "      <td>3961</td>\n",
       "      <td>URL: http://www.newsisfree.com/click/-0,836576...</td>\n",
       "      <td>0</td>\n",
       "    </tr>\n",
       "  </tbody>\n",
       "</table>\n",
       "</div>"
      ],
      "text/plain": [
       "      unnamed                                               text  is_spam\n",
       "1481     1481  Government Grants E-Book 2002 editionkatfish48...        1\n",
       "2239     2239  Justin Mason writes:\\n> Has anyone figured out...        0\n",
       "971       971  >From the ethnobotanical herbalists who brough...        1\n",
       "625       625  e Earn\\n        $1500 Or More Per Week!\\n     ...        1\n",
       "4544     4544  Liam Bedford wrote:\\n> that is the CVS version...        0\n",
       "1419     1419  CashIC.com ï¿½nternetten para kazandiran, en o...        1\n",
       "4717     4717  has anyone had a problem with Yast2 not being ...        0\n",
       "993       993  Learn How To Make $8,000 within 7-14 days!Get ...        1\n",
       "668       668                                              empty        1\n",
       "3961     3961  URL: http://www.newsisfree.com/click/-0,836576...        0"
      ]
     },
     "execution_count": 111,
     "metadata": {},
     "output_type": "execute_result"
    }
   ],
   "source": [
    "df.sample(10)\n"
   ]
  },
  {
   "cell_type": "code",
   "execution_count": 112,
   "id": "b5940c41",
   "metadata": {},
   "outputs": [],
   "source": [
    "df.drop(columns=['unnamed'], inplace=True) \n"
   ]
  },
  {
   "cell_type": "code",
   "execution_count": 113,
   "id": "36ca5892",
   "metadata": {},
   "outputs": [
    {
     "data": {
      "text/html": [
       "<div>\n",
       "<style scoped>\n",
       "    .dataframe tbody tr th:only-of-type {\n",
       "        vertical-align: middle;\n",
       "    }\n",
       "\n",
       "    .dataframe tbody tr th {\n",
       "        vertical-align: top;\n",
       "    }\n",
       "\n",
       "    .dataframe thead th {\n",
       "        text-align: right;\n",
       "    }\n",
       "</style>\n",
       "<table border=\"1\" class=\"dataframe\">\n",
       "  <thead>\n",
       "    <tr style=\"text-align: right;\">\n",
       "      <th></th>\n",
       "      <th>text</th>\n",
       "      <th>is_spam</th>\n",
       "    </tr>\n",
       "  </thead>\n",
       "  <tbody>\n",
       "    <tr>\n",
       "      <th>4672</th>\n",
       "      <td>\\nBAD MSG: &gt; And you get a working version of ...</td>\n",
       "      <td>0</td>\n",
       "    </tr>\n",
       "    <tr>\n",
       "      <th>1556</th>\n",
       "      <td>Below is the result of your feedback form.  It...</td>\n",
       "      <td>1</td>\n",
       "    </tr>\n",
       "    <tr>\n",
       "      <th>4158</th>\n",
       "      <td>URL: http://www.newsisfree.com/click/-4,851800...</td>\n",
       "      <td>0</td>\n",
       "    </tr>\n",
       "    <tr>\n",
       "      <th>3814</th>\n",
       "      <td>URL: http://scriptingnews.userland.com/backiss...</td>\n",
       "      <td>0</td>\n",
       "    </tr>\n",
       "    <tr>\n",
       "      <th>5543</th>\n",
       "      <td>On 21 Jul 2002 14:20:42 +1200\\nMark Derricutt ...</td>\n",
       "      <td>0</td>\n",
       "    </tr>\n",
       "    <tr>\n",
       "      <th>3439</th>\n",
       "      <td>\\nCraig Hughes said:&gt; &gt;   - All headers are re...</td>\n",
       "      <td>0</td>\n",
       "    </tr>\n",
       "    <tr>\n",
       "      <th>2597</th>\n",
       "      <td>LOL you rool  (:On Sat, 21 Sep 2002, Gregory A...</td>\n",
       "      <td>0</td>\n",
       "    </tr>\n",
       "    <tr>\n",
       "      <th>1673</th>\n",
       "      <td>Shoot your wad all over her face.\\nThese Girls...</td>\n",
       "      <td>1</td>\n",
       "    </tr>\n",
       "    <tr>\n",
       "      <th>2287</th>\n",
       "      <td>&gt;&gt;&gt;&gt;&gt; On Sat, 24 Aug 2002, \"Harlan\" == Harlan ...</td>\n",
       "      <td>0</td>\n",
       "    </tr>\n",
       "    <tr>\n",
       "      <th>4310</th>\n",
       "      <td>URL: http://www.newsisfree.com/click/-3,870111...</td>\n",
       "      <td>0</td>\n",
       "    </tr>\n",
       "  </tbody>\n",
       "</table>\n",
       "</div>"
      ],
      "text/plain": [
       "                                                   text  is_spam\n",
       "4672  \\nBAD MSG: > And you get a working version of ...        0\n",
       "1556  Below is the result of your feedback form.  It...        1\n",
       "4158  URL: http://www.newsisfree.com/click/-4,851800...        0\n",
       "3814  URL: http://scriptingnews.userland.com/backiss...        0\n",
       "5543  On 21 Jul 2002 14:20:42 +1200\\nMark Derricutt ...        0\n",
       "3439  \\nCraig Hughes said:> >   - All headers are re...        0\n",
       "2597  LOL you rool  (:On Sat, 21 Sep 2002, Gregory A...        0\n",
       "1673  Shoot your wad all over her face.\\nThese Girls...        1\n",
       "2287  >>>>> On Sat, 24 Aug 2002, \"Harlan\" == Harlan ...        0\n",
       "4310  URL: http://www.newsisfree.com/click/-3,870111...        0"
      ]
     },
     "execution_count": 113,
     "metadata": {},
     "output_type": "execute_result"
    }
   ],
   "source": [
    "df.sample(10)\n"
   ]
  },
  {
   "cell_type": "code",
   "execution_count": 114,
   "id": "72cf213f",
   "metadata": {},
   "outputs": [
    {
     "data": {
      "text/plain": [
       "text       1\n",
       "is_spam    0\n",
       "dtype: int64"
      ]
     },
     "execution_count": 114,
     "metadata": {},
     "output_type": "execute_result"
    }
   ],
   "source": [
    "df.isna().sum()\n"
   ]
  },
  {
   "cell_type": "code",
   "execution_count": 115,
   "id": "9e8b101a",
   "metadata": {},
   "outputs": [],
   "source": [
    "df.dropna(inplace=True)\n"
   ]
  },
  {
   "cell_type": "code",
   "execution_count": null,
   "id": "e0e4fbd0",
   "metadata": {},
   "outputs": [
    {
     "data": {
      "text/plain": [
       "(6045, 2)"
      ]
     },
     "execution_count": 182,
     "metadata": {},
     "output_type": "execute_result"
    }
   ],
   "source": [
    "df.shape\n"
   ]
  },
  {
   "cell_type": "code",
   "execution_count": 169,
   "id": "1c94fe14",
   "metadata": {},
   "outputs": [],
   "source": [
    "X, y = df['text'], df['is_spam']\n"
   ]
  },
  {
   "cell_type": "code",
   "execution_count": 170,
   "id": "dba600fa",
   "metadata": {},
   "outputs": [],
   "source": [
    "from sklearn.model_selection import train_test_split\n",
    "\n",
    "X_train, X_test, y_train, y_test = train_test_split(X, y, test_size=0.2, random_state=42)\n"
   ]
  },
  {
   "cell_type": "code",
   "execution_count": 178,
   "id": "daf25be9",
   "metadata": {},
   "outputs": [],
   "source": [
    "\n",
    "import re\n",
    "from nltk.stem import PorterStemmer\n",
    "\n",
    "stemmer = PorterStemmer()\n",
    "\n",
    "\n",
    "def convert_text(text_series):\n",
    "    return text_series.apply(lambda text: ' '.join(\n",
    "        stemmer.stem(word) for word in re.findall(r'\\b\\w+\\b', text.lower())\n",
    "    ))\n"
   ]
  },
  {
   "cell_type": "code",
   "execution_count": null,
   "id": "005e102b",
   "metadata": {},
   "outputs": [],
   "source": [
    "from sklearn.preprocessing import FunctionTransformer\n",
    "from sklearn.pipeline import Pipeline\n",
    "from sklearn.feature_extraction.text import TfidfVectorizer\n",
    "from sklearn.naive_bayes import MultinomialNB, GaussianNB, BernoulliNB\n",
    "from sklearn.linear_model import LogisticRegression\n",
    "from sklearn.ensemble import RandomForestClassifier, GradientBoostingClassifier, AdaBoostClassifier\n",
    "from sklearn.svm import SVC\n",
    "from sklearn.tree import DecisionTreeClassifier, ExtraTreeClassifier\n"
   ]
  },
  {
   "cell_type": "code",
   "execution_count": null,
   "id": "7684120f",
   "metadata": {},
   "outputs": [],
   "source": [
    "model = Pipeline([\n",
    "    ('preprocess', FunctionTransformer(convert_text, validate=False)),\n",
    "    ('tfidf', TfidfVectorizer(stop_words='english', max_features=8000, ngram_range=(1, 2))),\n",
    "    ('clf', MultinomialNB())\n",
    "])\n"
   ]
  },
  {
   "cell_type": "code",
   "execution_count": null,
   "id": "709c7a57",
   "metadata": {},
   "outputs": [],
   "source": [
    "model.fit(X_train, y_train)\n"
   ]
  },
  {
   "cell_type": "code",
   "execution_count": null,
   "id": "a8801367",
   "metadata": {},
   "outputs": [
    {
     "data": {
      "text/plain": [
       "0.9536807278742763"
      ]
     },
     "execution_count": 195,
     "metadata": {},
     "output_type": "execute_result"
    }
   ],
   "source": [
    "model.score(X_test, y_test)\n"
   ]
  },
  {
   "cell_type": "code",
   "execution_count": null,
   "id": "74182016",
   "metadata": {},
   "outputs": [
    {
     "name": "stdout",
     "output_type": "stream",
     "text": [
      "Checking accuracy for Multinomial Naive Bayes\n",
      "Accuracy for Multinomial Naive Bayes is 0.9528535980148883\n",
      "**************************************************\n",
      "\n",
      "\n",
      "Checking accuracy for Bernoulli Naive Bayes\n",
      "Accuracy for Bernoulli Naive Bayes is 0.9586435070306039\n",
      "**************************************************\n",
      "\n",
      "\n",
      "Checking accuracy for AdaBoost\n"
     ]
    },
    {
     "name": "stderr",
     "output_type": "stream",
     "text": [
      "c:\\Users\\bagam\\anaconda3\\Lib\\site-packages\\sklearn\\ensemble\\_weight_boosting.py:527: FutureWarning: The SAMME.R algorithm (the default) is deprecated and will be removed in 1.6. Use the SAMME algorithm to circumvent this warning.\n",
      "  warnings.warn(\n"
     ]
    },
    {
     "name": "stdout",
     "output_type": "stream",
     "text": [
      "Accuracy for AdaBoost is 0.9387923904052936\n",
      "**************************************************\n",
      "\n",
      "\n",
      "Checking accuracy for Gradient Boosting\n",
      "Accuracy for Gradient Boosting is 0.9346567411083541\n",
      "**************************************************\n",
      "\n",
      "\n"
     ]
    }
   ],
   "source": [
    "models = {\n",
    "    'Logistic Regression' : LogisticRegression(),\n",
    "    'Random Forest' : RandomForestClassifier(),\n",
    "    'Support Vector Machine' : SVC(),\n",
    "    'Decision Tree' : DecisionTreeClassifier(),\n",
    "    'ExtraTreeClassifier' : ExtraTreeClassifier(),\n",
    "    'SVC' : SVC(),\n",
    "    'Multinomial Naive Bayes' : MultinomialNB(),\n",
    "    'Bernoulli Naive Bayes' : BernoulliNB(),\n",
    "    'AdaBoost' : AdaBoostClassifier(),\n",
    "    'Gradient Boosting' : GradientBoostingClassifier(),\n",
    "    \n",
    "}\n",
    "\n",
    "\n",
    "for name, current_model in models.items():\n",
    "    print(f\"Checking accuracy for {name}\")\n",
    "    model = Pipeline([\n",
    "        ('preprocess', FunctionTransformer(convert_text, validate=False)),\n",
    "        ('tfidf', TfidfVectorizer(stop_words='english', max_features=8000, ngram_range=(1, 2))),\n",
    "        ('clf', current_model)\n",
    "    ])\n",
    "\n",
    "    model.fit(X_train, y_train)\n",
    "    print(f\"Accuracy for {name} is {model.score(X_test, y_test)}\")\n",
    "    print(\"*\"*50)\n",
    "    print(\"\\n\")\n",
    "\n"
   ]
  },
  {
   "cell_type": "code",
   "execution_count": null,
   "id": "0cd6e240",
   "metadata": {},
   "outputs": [],
   "source": [
    "from sklearn.model_selection import GridSearchCV\n",
    "\n",
    "pipeline = Pipeline([\n",
    "    ('preprocess', FunctionTransformer(convert_text, validate=False)),\n",
    "    ('tfidf', TfidfVectorizer()),\n",
    "    ('clf', BernoulliNB())\n",
    "])\n",
    "\n",
    "# Define parameter grid\n",
    "param_grid = {\n",
    "    'tfidf__max_df': [0.9, 1.0],\n",
    "    'tfidf__min_df': [1, 3, 5],\n",
    "    'tfidf__ngram_range': [(1, 1), (1, 2)],\n",
    "    'tfidf__max_features': [5000, 8000, 10000],\n",
    "    'clf__alpha': [0.1, 0.5, 1.0],  # Laplace smoothing\n",
    "    'clf__binarize': [0.0, 0.5, 1.0],\n",
    "    'clf__fit_prior': [True, False]\n",
    "}\n",
    "\n",
    "# Run GridSearchCV\n",
    "grid_search = GridSearchCV(pipeline, param_grid, cv=5, scoring='accuracy', n_jobs=-1, verbose=1)\n",
    "\n",
    "grid_search.fit(X_train, y_train)\n",
    "\n",
    "# Best score and params\n",
    "print(\"Best accuracy:\", grid_search.best_score_)\n",
    "print(\"Best parameters:\", grid_search.best_params_)\n"
   ]
  },
  {
   "cell_type": "code",
   "execution_count": null,
   "id": "00c76b87",
   "metadata": {},
   "outputs": [],
   "source": []
  }
 ],
 "metadata": {
  "kernelspec": {
   "display_name": "base",
   "language": "python",
   "name": "python3"
  },
  "language_info": {
   "codemirror_mode": {
    "name": "ipython",
    "version": 3
   },
   "file_extension": ".py",
   "mimetype": "text/x-python",
   "name": "python",
   "nbconvert_exporter": "python",
   "pygments_lexer": "ipython3",
   "version": "3.12.7"
  }
 },
 "nbformat": 4,
 "nbformat_minor": 5
}
