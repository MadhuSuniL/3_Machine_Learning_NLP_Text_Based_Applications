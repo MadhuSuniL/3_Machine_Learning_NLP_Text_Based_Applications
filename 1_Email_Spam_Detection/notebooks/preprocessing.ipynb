{
 "cells": [
  {
   "cell_type": "code",
   "execution_count": 1,
   "id": "056ba74b",
   "metadata": {},
   "outputs": [],
   "source": [
    "import os\n",
    "import pandas as pd\n",
    "import numpy as np\n",
    "import matplotlib.pyplot as plt\n",
    "import seaborn as sns\n"
   ]
  },
  {
   "cell_type": "code",
   "execution_count": 2,
   "id": "7cfe3e1d",
   "metadata": {},
   "outputs": [],
   "source": [
    "os.chdir(os.getcwd().replace('notebooks', 'data'))\n",
    "\n",
    "df = pd.read_csv('data.csv')\n"
   ]
  },
  {
   "cell_type": "code",
   "execution_count": 3,
   "id": "537d02ef",
   "metadata": {},
   "outputs": [],
   "source": [
    "df.columns = ['unnamed', 'text', 'is_spam']\n"
   ]
  },
  {
   "cell_type": "code",
   "execution_count": 4,
   "id": "23b65dad",
   "metadata": {},
   "outputs": [],
   "source": [
    "df.drop(columns=['unnamed'], inplace=True) \n"
   ]
  },
  {
   "cell_type": "code",
   "execution_count": 5,
   "id": "05f65221",
   "metadata": {},
   "outputs": [
    {
     "data": {
      "text/html": [
       "<div>\n",
       "<style scoped>\n",
       "    .dataframe tbody tr th:only-of-type {\n",
       "        vertical-align: middle;\n",
       "    }\n",
       "\n",
       "    .dataframe tbody tr th {\n",
       "        vertical-align: top;\n",
       "    }\n",
       "\n",
       "    .dataframe thead th {\n",
       "        text-align: right;\n",
       "    }\n",
       "</style>\n",
       "<table border=\"1\" class=\"dataframe\">\n",
       "  <thead>\n",
       "    <tr style=\"text-align: right;\">\n",
       "      <th></th>\n",
       "      <th>text</th>\n",
       "      <th>is_spam</th>\n",
       "    </tr>\n",
       "  </thead>\n",
       "  <tbody>\n",
       "    <tr>\n",
       "      <th>4044</th>\n",
       "      <td>URL: http://www.newsisfree.com/click/-1,839102...</td>\n",
       "      <td>0</td>\n",
       "    </tr>\n",
       "    <tr>\n",
       "      <th>2207</th>\n",
       "      <td>So, last night around 5:30AM I'm woken up by a...</td>\n",
       "      <td>0</td>\n",
       "    </tr>\n",
       "    <tr>\n",
       "      <th>3914</th>\n",
       "      <td>URL: http://www.newsisfree.com/click/-5,829698...</td>\n",
       "      <td>0</td>\n",
       "    </tr>\n",
       "    <tr>\n",
       "      <th>5940</th>\n",
       "      <td>Today's Headlines from The Register\\n---------...</td>\n",
       "      <td>0</td>\n",
       "    </tr>\n",
       "    <tr>\n",
       "      <th>4900</th>\n",
       "      <td>hi all,thanks for the good information on the ...</td>\n",
       "      <td>0</td>\n",
       "    </tr>\n",
       "    <tr>\n",
       "      <th>2140</th>\n",
       "      <td>\\n&gt; Zimbabwe has dropped objections to accepti...</td>\n",
       "      <td>0</td>\n",
       "    </tr>\n",
       "    <tr>\n",
       "      <th>73</th>\n",
       "      <td>empty</td>\n",
       "      <td>1</td>\n",
       "    </tr>\n",
       "    <tr>\n",
       "      <th>2138</th>\n",
       "      <td>Of course, everyone knows that Owlman is a wor...</td>\n",
       "      <td>0</td>\n",
       "    </tr>\n",
       "    <tr>\n",
       "      <th>5089</th>\n",
       "      <td>\"In fact, Caltech says that it actually spun o...</td>\n",
       "      <td>0</td>\n",
       "    </tr>\n",
       "    <tr>\n",
       "      <th>3235</th>\n",
       "      <td>On Tuesday 27 August 2002 19:26 CET Leroy B. w...</td>\n",
       "      <td>0</td>\n",
       "    </tr>\n",
       "  </tbody>\n",
       "</table>\n",
       "</div>"
      ],
      "text/plain": [
       "                                                   text  is_spam\n",
       "4044  URL: http://www.newsisfree.com/click/-1,839102...        0\n",
       "2207  So, last night around 5:30AM I'm woken up by a...        0\n",
       "3914  URL: http://www.newsisfree.com/click/-5,829698...        0\n",
       "5940  Today's Headlines from The Register\\n---------...        0\n",
       "4900  hi all,thanks for the good information on the ...        0\n",
       "2140  \\n> Zimbabwe has dropped objections to accepti...        0\n",
       "73                                                empty        1\n",
       "2138  Of course, everyone knows that Owlman is a wor...        0\n",
       "5089  \"In fact, Caltech says that it actually spun o...        0\n",
       "3235  On Tuesday 27 August 2002 19:26 CET Leroy B. w...        0"
      ]
     },
     "execution_count": 5,
     "metadata": {},
     "output_type": "execute_result"
    }
   ],
   "source": [
    "df.sample(10)\n"
   ]
  },
  {
   "cell_type": "code",
   "execution_count": 6,
   "id": "dd6f0239",
   "metadata": {},
   "outputs": [],
   "source": [
    "df.dropna(inplace=True)\n"
   ]
  },
  {
   "cell_type": "code",
   "execution_count": 7,
   "id": "487c4ed4",
   "metadata": {},
   "outputs": [
    {
     "data": {
      "text/plain": [
       "(6045, 2)"
      ]
     },
     "execution_count": 7,
     "metadata": {},
     "output_type": "execute_result"
    }
   ],
   "source": [
    "df.shape\n"
   ]
  },
  {
   "cell_type": "code",
   "execution_count": 8,
   "id": "c1363eff",
   "metadata": {},
   "outputs": [],
   "source": [
    "df.to_csv('clean.csv', index=False)\n"
   ]
  },
  {
   "cell_type": "code",
   "execution_count": null,
   "id": "ca8651e2",
   "metadata": {},
   "outputs": [],
   "source": []
  }
 ],
 "metadata": {
  "kernelspec": {
   "display_name": "base",
   "language": "python",
   "name": "python3"
  },
  "language_info": {
   "codemirror_mode": {
    "name": "ipython",
    "version": 3
   },
   "file_extension": ".py",
   "mimetype": "text/x-python",
   "name": "python",
   "nbconvert_exporter": "python",
   "pygments_lexer": "ipython3",
   "version": "3.12.7"
  }
 },
 "nbformat": 4,
 "nbformat_minor": 5
}
