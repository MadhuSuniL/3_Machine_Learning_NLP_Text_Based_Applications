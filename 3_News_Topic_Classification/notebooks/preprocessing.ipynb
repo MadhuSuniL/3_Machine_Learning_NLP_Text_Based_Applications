{
 "cells": [
  {
   "cell_type": "code",
   "execution_count": 1,
   "id": "d421e773",
   "metadata": {},
   "outputs": [],
   "source": [
    "import os\n",
    "import pandas as pd\n",
    "import numpy as np\n",
    "import matplotlib.pyplot as plt\n",
    "import seaborn as sns\n"
   ]
  },
  {
   "cell_type": "code",
   "execution_count": 2,
   "id": "b73e83e7",
   "metadata": {},
   "outputs": [],
   "source": [
    "os.chdir(os.getcwd().replace('notebooks', 'data'))\n",
    "\n",
    "df = pd.read_csv('data.csv')\n"
   ]
  },
  {
   "cell_type": "code",
   "execution_count": 3,
   "id": "ce1ab53d",
   "metadata": {},
   "outputs": [],
   "source": [
    "df.columns = ['label', 'title', 'description']\n"
   ]
  },
  {
   "cell_type": "code",
   "execution_count": 4,
   "id": "167bef3e",
   "metadata": {},
   "outputs": [],
   "source": [
    "df['news_text'] = df['title'] + ' ' + df['description']\n"
   ]
  },
  {
   "cell_type": "code",
   "execution_count": 5,
   "id": "690184bc",
   "metadata": {},
   "outputs": [],
   "source": [
    "df = df[['news_text', 'label']]\n",
    "\n"
   ]
  },
  {
   "cell_type": "code",
   "execution_count": 6,
   "id": "d69305d7",
   "metadata": {},
   "outputs": [],
   "source": [
    "df.to_csv('clean.csv', index=False)\n"
   ]
  },
  {
   "cell_type": "code",
   "execution_count": null,
   "id": "d26b228e",
   "metadata": {},
   "outputs": [],
   "source": []
  }
 ],
 "metadata": {
  "kernelspec": {
   "display_name": "base",
   "language": "python",
   "name": "python3"
  },
  "language_info": {
   "codemirror_mode": {
    "name": "ipython",
    "version": 3
   },
   "file_extension": ".py",
   "mimetype": "text/x-python",
   "name": "python",
   "nbconvert_exporter": "python",
   "pygments_lexer": "ipython3",
   "version": "3.12.7"
  }
 },
 "nbformat": 4,
 "nbformat_minor": 5
}
