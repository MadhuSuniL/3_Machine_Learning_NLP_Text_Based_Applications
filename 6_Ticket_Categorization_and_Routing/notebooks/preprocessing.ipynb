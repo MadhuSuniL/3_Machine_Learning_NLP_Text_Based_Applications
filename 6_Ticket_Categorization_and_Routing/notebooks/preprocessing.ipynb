{
 "cells": [
  {
   "cell_type": "code",
   "execution_count": 1,
   "id": "d09d7803",
   "metadata": {},
   "outputs": [],
   "source": [
    "import os\n",
    "import pandas as pd\n",
    "import numpy as np\n",
    "import matplotlib.pyplot as plt\n",
    "import seaborn as sns\n"
   ]
  },
  {
   "cell_type": "code",
   "execution_count": 2,
   "id": "6f68b330",
   "metadata": {},
   "outputs": [],
   "source": [
    "os.chdir(os.getcwd().replace('notebooks', 'data'))\n",
    "\n",
    "df = pd.read_csv('data.csv')\n"
   ]
  },
  {
   "cell_type": "code",
   "execution_count": 3,
   "id": "20384c48",
   "metadata": {},
   "outputs": [],
   "source": [
    "df = df[['Ticket Description', 'Ticket Type']]\n"
   ]
  },
  {
   "cell_type": "code",
   "execution_count": 4,
   "id": "432235dc",
   "metadata": {},
   "outputs": [],
   "source": [
    "df.columns = ['description', 'category']\n"
   ]
  },
  {
   "cell_type": "code",
   "execution_count": 5,
   "id": "b5191ed0",
   "metadata": {},
   "outputs": [],
   "source": [
    "df.drop_duplicates(inplace=True)\n"
   ]
  },
  {
   "cell_type": "code",
   "execution_count": 6,
   "id": "dea1cbf3",
   "metadata": {},
   "outputs": [],
   "source": [
    "category_mapping = {\n",
    "    \"Refund request\" : 0,\n",
    "    \"Technical issue\" : 1,\n",
    "    \"Cancellation request\" : 2,\n",
    "    \"Product inquiry\" : 3,\n",
    "    \"Billing inquiry\" : 4\n",
    "}\n"
   ]
  },
  {
   "cell_type": "code",
   "execution_count": 7,
   "id": "0bde5a88",
   "metadata": {},
   "outputs": [],
   "source": [
    "df['category'] = df['category'].map(category_mapping)\n"
   ]
  },
  {
   "cell_type": "code",
   "execution_count": 8,
   "id": "d15cfdc3",
   "metadata": {},
   "outputs": [],
   "source": [
    "df.to_csv('clean.csv')\n"
   ]
  }
 ],
 "metadata": {
  "kernelspec": {
   "display_name": "base",
   "language": "python",
   "name": "python3"
  },
  "language_info": {
   "codemirror_mode": {
    "name": "ipython",
    "version": 3
   },
   "file_extension": ".py",
   "mimetype": "text/x-python",
   "name": "python",
   "nbconvert_exporter": "python",
   "pygments_lexer": "ipython3",
   "version": "3.12.7"
  }
 },
 "nbformat": 4,
 "nbformat_minor": 5
}
